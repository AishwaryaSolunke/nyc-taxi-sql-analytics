{
 "cells": [
  {
   "cell_type": "code",
   "execution_count": 0,
   "metadata": {
    "application/vnd.databricks.v1+cell": {
     "cellMetadata": {
      "byteLimit": 2048000,
      "rowLimit": 10000
     },
     "inputWidgets": {},
     "nuid": "2af101b2-4633-4f77-97df-79051e4ecdc7",
     "showTitle": false,
     "tableResultSettingsMap": {},
     "title": ""
    }
   },
   "outputs": [
    {
     "output_type": "stream",
     "name": "stdout",
     "output_type": "stream",
     "text": [
      "root\n |-- VendorID: integer (nullable = true)\n |-- tpep_pickup_datetime: timestamp (nullable = true)\n |-- tpep_dropoff_datetime: timestamp (nullable = true)\n |-- passenger_count: long (nullable = true)\n |-- trip_distance: double (nullable = true)\n |-- RatecodeID: long (nullable = true)\n |-- store_and_fwd_flag: string (nullable = true)\n |-- PULocationID: integer (nullable = true)\n |-- DOLocationID: integer (nullable = true)\n |-- payment_type: long (nullable = true)\n |-- fare_amount: double (nullable = true)\n |-- extra: double (nullable = true)\n |-- mta_tax: double (nullable = true)\n |-- tip_amount: double (nullable = true)\n |-- tolls_amount: double (nullable = true)\n |-- improvement_surcharge: double (nullable = true)\n |-- total_amount: double (nullable = true)\n |-- congestion_surcharge: double (nullable = true)\n |-- Airport_fee: double (nullable = true)\n |-- cbd_congestion_fee: double (nullable = true)\n\n+--------+--------------------+---------------------+---------------+-------------+----------+------------------+------------+------------+------------+-----------+-----+-------+----------+------------+---------------------+------------+--------------------+-----------+------------------+\n|VendorID|tpep_pickup_datetime|tpep_dropoff_datetime|passenger_count|trip_distance|RatecodeID|store_and_fwd_flag|PULocationID|DOLocationID|payment_type|fare_amount|extra|mta_tax|tip_amount|tolls_amount|improvement_surcharge|total_amount|congestion_surcharge|Airport_fee|cbd_congestion_fee|\n+--------+--------------------+---------------------+---------------+-------------+----------+------------------+------------+------------+------------+-----------+-----+-------+----------+------------+---------------------+------------+--------------------+-----------+------------------+\n|       2| 2025-02-01 00:12:18|  2025-02-01 00:32:33|              3|         3.12|         1|                 N|         246|          79|           1|       19.8|  1.0|    0.5|      5.11|         0.0|                  1.0|       30.66|                 2.5|        0.0|              0.75|\n|       2| 2025-02-01 00:40:04|  2025-02-01 00:49:15|              1|          1.4|         1|                 N|         114|          79|           1|       10.0|  1.0|    0.5|      3.15|         0.0|                  1.0|        18.9|                 2.5|        0.0|              0.75|\n|       1| 2025-02-01 00:06:09|  2025-02-01 00:11:51|              0|          0.4|         1|                 N|         211|         144|           1|        6.5| 4.25|    0.5|       1.0|         0.0|                  1.0|       13.25|                 2.5|        0.0|              0.75|\n|       1| 2025-02-01 00:15:13|  2025-02-01 00:20:19|              0|          0.7|         1|                 N|         113|         249|           1|        7.2| 4.25|    0.5|       2.0|         0.0|                  1.0|       14.95|                 2.5|        0.0|              0.75|\n|       2| 2025-02-01 00:02:52|  2025-02-01 00:20:25|              1|         4.19|         1|                 N|         113|         263|           1|       19.8|  1.0|    0.5|      5.11|         0.0|                  1.0|       30.66|                 2.5|        0.0|              0.75|\n+--------+--------------------+---------------------+---------------+-------------+----------+------------------+------------+------------+------------+-----------+-----+-------+----------+------------+---------------------+------------+--------------------+-----------+------------------+\nonly showing top 5 rows\n\n"
     ]
    }
   ],
   "source": [
    "###Read Parquet File & Preview Data\n",
    "\n",
    "# Path to uploaded Parquet file\n",
    "parquet_path = \"/FileStore/tables/yellow_tripdata_2025_02.parquet\"\n",
    "\n",
    "# Read parquet file\n",
    "df_batch = spark.read.parquet(parquet_path)\n",
    "\n",
    "# Show schema and sample data\n",
    "df_batch.printSchema()\n",
    "df_batch.show(5)"
   ]
  },
  {
   "cell_type": "code",
   "execution_count": 0,
   "metadata": {
    "application/vnd.databricks.v1+cell": {
     "cellMetadata": {
      "byteLimit": 2048000,
      "rowLimit": 10000
     },
     "inputWidgets": {},
     "nuid": "71b4b254-5cd8-47ba-8375-8e7baaa4e1b6",
     "showTitle": false,
     "tableResultSettingsMap": {},
     "title": ""
    }
   },
   "outputs": [],
   "source": [
    "##Save Data as Delta Table (Batch)\n",
    "# Save as Delta table location for batch processing\n",
    "df_batch.write.format(\"delta\").mode(\"overwrite\").save(\"/delta/taxi_trips_batch\")"
   ]
  },
  {
   "cell_type": "code",
   "execution_count": 0,
   "metadata": {
    "application/vnd.databricks.v1+cell": {
     "cellMetadata": {
      "byteLimit": 2048000,
      "implicitDf": true,
      "rowLimit": 10000
     },
     "inputWidgets": {},
     "nuid": "a94cad43-77eb-4068-9663-c3cd7be32b09",
     "showTitle": false,
     "tableResultSettingsMap": {},
     "title": ""
    }
   },
   "outputs": [
    {
     "output_type": "display_data",
     "data": {
      "text/html": [
       "<style scoped>\n",
       "  .table-result-container {\n",
       "    max-height: 300px;\n",
       "    overflow: auto;\n",
       "  }\n",
       "  table, th, td {\n",
       "    border: 1px solid black;\n",
       "    border-collapse: collapse;\n",
       "  }\n",
       "  th, td {\n",
       "    padding: 5px;\n",
       "  }\n",
       "  th {\n",
       "    text-align: left;\n",
       "  }\n",
       "</style><div class='table-result-container'><table class='table-result'><thead style='background-color: white'><tr></tr></thead><tbody></tbody></table></div>"
      ]
     },
     "metadata": {
      "application/vnd.databricks.v1+output": {
       "addedWidgets": {},
       "aggData": [],
       "aggError": "",
       "aggOverflow": false,
       "aggSchema": [],
       "aggSeriesLimitReached": false,
       "aggType": "",
       "arguments": {},
       "columnCustomDisplayInfos": {},
       "data": [],
       "datasetInfos": [],
       "dbfsResultPath": null,
       "isJsonSchema": true,
       "metadata": {},
       "overflow": false,
       "plotOptions": {
        "customPlotOptions": {},
        "displayType": "table",
        "pivotAggregation": null,
        "pivotColumns": null,
        "xColumns": null,
        "yColumns": null
       },
       "removedWidgets": [],
       "schema": [],
       "type": "table"
      }
     },
     "output_type": "display_data"
    }
   ],
   "source": [
    "%sql\n",
    "CREATE TABLE IF NOT EXISTS taxi_trips_batch\n",
    "USING DELTA\n",
    "LOCATION '/delta/taxi_trips_batch';"
   ]
  },
  {
   "cell_type": "code",
   "execution_count": 0,
   "metadata": {
    "application/vnd.databricks.v1+cell": {
     "cellMetadata": {
      "byteLimit": 2048000,
      "implicitDf": true,
      "rowLimit": 10000
     },
     "inputWidgets": {},
     "nuid": "1ff39b3d-cb72-48a4-9bd5-1ae0cfc7682c",
     "showTitle": false,
     "tableResultSettingsMap": {},
     "title": ""
    }
   },
   "outputs": [
    {
     "output_type": "display_data",
     "data": {
      "text/html": [
       "<style scoped>\n",
       "  .table-result-container {\n",
       "    max-height: 300px;\n",
       "    overflow: auto;\n",
       "  }\n",
       "  table, th, td {\n",
       "    border: 1px solid black;\n",
       "    border-collapse: collapse;\n",
       "  }\n",
       "  th, td {\n",
       "    padding: 5px;\n",
       "  }\n",
       "  th {\n",
       "    text-align: left;\n",
       "  }\n",
       "</style><div class='table-result-container'><table class='table-result'><thead style='background-color: white'><tr><th>trip_date</th><th>total_trips</th></tr></thead><tbody><tr><td>2025-03-01</td><td>1</td></tr><tr><td>2025-02-28</td><td>149455</td></tr><tr><td>2025-02-27</td><td>144052</td></tr><tr><td>2025-02-26</td><td>128974</td></tr><tr><td>2025-02-25</td><td>115804</td></tr><tr><td>2025-02-24</td><td>97348</td></tr><tr><td>2025-02-23</td><td>108970</td></tr><tr><td>2025-02-22</td><td>141862</td></tr><tr><td>2025-02-21</td><td>133980</td></tr><tr><td>2025-02-20</td><td>142246</td></tr></tbody></table></div>"
      ]
     },
     "metadata": {
      "application/vnd.databricks.v1+output": {
       "addedWidgets": {},
       "aggData": [],
       "aggError": "",
       "aggOverflow": false,
       "aggSchema": [],
       "aggSeriesLimitReached": false,
       "aggType": "",
       "arguments": {},
       "columnCustomDisplayInfos": {},
       "data": [
        [
         "2025-03-01",
         1
        ],
        [
         "2025-02-28",
         149455
        ],
        [
         "2025-02-27",
         144052
        ],
        [
         "2025-02-26",
         128974
        ],
        [
         "2025-02-25",
         115804
        ],
        [
         "2025-02-24",
         97348
        ],
        [
         "2025-02-23",
         108970
        ],
        [
         "2025-02-22",
         141862
        ],
        [
         "2025-02-21",
         133980
        ],
        [
         "2025-02-20",
         142246
        ]
       ],
       "datasetInfos": [],
       "dbfsResultPath": null,
       "isJsonSchema": true,
       "metadata": {},
       "overflow": false,
       "plotOptions": {
        "customPlotOptions": {},
        "displayType": "table",
        "pivotAggregation": null,
        "pivotColumns": null,
        "xColumns": null,
        "yColumns": null
       },
       "removedWidgets": [],
       "schema": [
        {
         "metadata": "{}",
         "name": "trip_date",
         "type": "\"date\""
        },
        {
         "metadata": "{}",
         "name": "total_trips",
         "type": "\"long\""
        }
       ],
       "type": "table"
      }
     },
     "output_type": "display_data"
    }
   ],
   "source": [
    "%sql\n",
    "-- Trips per day\n",
    "SELECT\n",
    "  DATE(tpep_pickup_datetime) AS trip_date,\n",
    "  COUNT(*) AS total_trips\n",
    "FROM taxi_trips_batch\n",
    "GROUP BY trip_date\n",
    "ORDER BY trip_date DESC\n",
    "LIMIT 10;"
   ]
  },
  {
   "cell_type": "code",
   "execution_count": 0,
   "metadata": {
    "application/vnd.databricks.v1+cell": {
     "cellMetadata": {
      "byteLimit": 2048000,
      "implicitDf": true,
      "rowLimit": 10000
     },
     "inputWidgets": {},
     "nuid": "945981a7-316c-4f6c-be0a-1235d0d2ba01",
     "showTitle": false,
     "tableResultSettingsMap": {},
     "title": ""
    }
   },
   "outputs": [
    {
     "output_type": "display_data",
     "data": {
      "text/html": [
       "<style scoped>\n",
       "  .table-result-container {\n",
       "    max-height: 300px;\n",
       "    overflow: auto;\n",
       "  }\n",
       "  table, th, td {\n",
       "    border: 1px solid black;\n",
       "    border-collapse: collapse;\n",
       "  }\n",
       "  th, td {\n",
       "    padding: 5px;\n",
       "  }\n",
       "  th {\n",
       "    text-align: left;\n",
       "  }\n",
       "</style><div class='table-result-container'><table class='table-result'><thead style='background-color: white'><tr><th>payment_type</th><th>avg_fare</th></tr></thead><tbody><tr><td>1</td><td>17.87</td></tr><tr><td>2</td><td>16.26</td></tr><tr><td>0</td><td>15.33</td></tr><tr><td>3</td><td>11.03</td></tr><tr><td>4</td><td>0.62</td></tr></tbody></table></div>"
      ]
     },
     "metadata": {
      "application/vnd.databricks.v1+output": {
       "addedWidgets": {},
       "aggData": [],
       "aggError": "",
       "aggOverflow": false,
       "aggSchema": [],
       "aggSeriesLimitReached": false,
       "aggType": "",
       "arguments": {},
       "columnCustomDisplayInfos": {},
       "data": [
        [
         1,
         17.87
        ],
        [
         2,
         16.26
        ],
        [
         0,
         15.33
        ],
        [
         3,
         11.03
        ],
        [
         4,
         0.62
        ]
       ],
       "datasetInfos": [],
       "dbfsResultPath": null,
       "isJsonSchema": true,
       "metadata": {},
       "overflow": false,
       "plotOptions": {
        "customPlotOptions": {},
        "displayType": "table",
        "pivotAggregation": null,
        "pivotColumns": null,
        "xColumns": null,
        "yColumns": null
       },
       "removedWidgets": [],
       "schema": [
        {
         "metadata": "{}",
         "name": "payment_type",
         "type": "\"long\""
        },
        {
         "metadata": "{}",
         "name": "avg_fare",
         "type": "\"double\""
        }
       ],
       "type": "table"
      }
     },
     "output_type": "display_data"
    }
   ],
   "source": [
    "%sql\n",
    "-- Average fare by payment type\n",
    "SELECT\n",
    "  payment_type,\n",
    "  ROUND(AVG(fare_amount), 2) AS avg_fare\n",
    "FROM taxi_trips_batch\n",
    "GROUP BY payment_type\n",
    "ORDER BY avg_fare DESC;"
   ]
  },
  {
   "cell_type": "code",
   "execution_count": 0,
   "metadata": {
    "application/vnd.databricks.v1+cell": {
     "cellMetadata": {
      "byteLimit": 2048000,
      "implicitDf": true,
      "rowLimit": 10000
     },
     "inputWidgets": {},
     "nuid": "714a3a04-fe74-49ec-886b-8a2091771cf9",
     "showTitle": false,
     "tableResultSettingsMap": {},
     "title": ""
    }
   },
   "outputs": [
    {
     "output_type": "display_data",
     "data": {
      "text/html": [
       "<style scoped>\n",
       "  .table-result-container {\n",
       "    max-height: 300px;\n",
       "    overflow: auto;\n",
       "  }\n",
       "  table, th, td {\n",
       "    border: 1px solid black;\n",
       "    border-collapse: collapse;\n",
       "  }\n",
       "  th, td {\n",
       "    padding: 5px;\n",
       "  }\n",
       "  th {\n",
       "    text-align: left;\n",
       "  }\n",
       "</style><div class='table-result-container'><table class='table-result'><thead style='background-color: white'><tr><th>trip_date</th><th>total_trips</th><th>running_total_trips</th></tr></thead><tbody><tr><td>2025-01-31</td><td>30</td><td>30</td></tr><tr><td>2025-02-01</td><td>148649</td><td>148679</td></tr><tr><td>2025-02-02</td><td>123646</td><td>272325</td></tr><tr><td>2025-02-03</td><td>98476</td><td>370801</td></tr><tr><td>2025-02-04</td><td>119863</td><td>490664</td></tr><tr><td>2025-02-05</td><td>128369</td><td>619033</td></tr><tr><td>2025-02-06</td><td>126082</td><td>745115</td></tr><tr><td>2025-02-07</td><td>138099</td><td>883214</td></tr><tr><td>2025-02-08</td><td>146049</td><td>1029263</td></tr><tr><td>2025-02-09</td><td>123431</td><td>1152694</td></tr><tr><td>2025-02-10</td><td>108569</td><td>1261263</td></tr><tr><td>2025-02-11</td><td>125526</td><td>1386789</td></tr><tr><td>2025-02-12</td><td>128920</td><td>1515709</td></tr><tr><td>2025-02-13</td><td>142760</td><td>1658469</td></tr><tr><td>2025-02-14</td><td>158575</td><td>1817044</td></tr><tr><td>2025-02-15</td><td>148473</td><td>1965517</td></tr><tr><td>2025-02-16</td><td>113726</td><td>2079243</td></tr><tr><td>2025-02-17</td><td>94574</td><td>2173817</td></tr><tr><td>2025-02-18</td><td>117355</td><td>2291172</td></tr><tr><td>2025-02-19</td><td>123679</td><td>2414851</td></tr><tr><td>2025-02-20</td><td>142246</td><td>2557097</td></tr><tr><td>2025-02-21</td><td>133980</td><td>2691077</td></tr><tr><td>2025-02-22</td><td>141862</td><td>2832939</td></tr><tr><td>2025-02-23</td><td>108970</td><td>2941909</td></tr><tr><td>2025-02-24</td><td>97348</td><td>3039257</td></tr><tr><td>2025-02-25</td><td>115804</td><td>3155061</td></tr><tr><td>2025-02-26</td><td>128974</td><td>3284035</td></tr><tr><td>2025-02-27</td><td>144052</td><td>3428087</td></tr><tr><td>2025-02-28</td><td>149455</td><td>3577542</td></tr><tr><td>2025-03-01</td><td>1</td><td>3577543</td></tr></tbody></table></div>"
      ]
     },
     "metadata": {
      "application/vnd.databricks.v1+output": {
       "addedWidgets": {},
       "aggData": [],
       "aggError": "",
       "aggOverflow": false,
       "aggSchema": [],
       "aggSeriesLimitReached": false,
       "aggType": "",
       "arguments": {},
       "columnCustomDisplayInfos": {},
       "data": [
        [
         "2025-01-31",
         30,
         30
        ],
        [
         "2025-02-01",
         148649,
         148679
        ],
        [
         "2025-02-02",
         123646,
         272325
        ],
        [
         "2025-02-03",
         98476,
         370801
        ],
        [
         "2025-02-04",
         119863,
         490664
        ],
        [
         "2025-02-05",
         128369,
         619033
        ],
        [
         "2025-02-06",
         126082,
         745115
        ],
        [
         "2025-02-07",
         138099,
         883214
        ],
        [
         "2025-02-08",
         146049,
         1029263
        ],
        [
         "2025-02-09",
         123431,
         1152694
        ],
        [
         "2025-02-10",
         108569,
         1261263
        ],
        [
         "2025-02-11",
         125526,
         1386789
        ],
        [
         "2025-02-12",
         128920,
         1515709
        ],
        [
         "2025-02-13",
         142760,
         1658469
        ],
        [
         "2025-02-14",
         158575,
         1817044
        ],
        [
         "2025-02-15",
         148473,
         1965517
        ],
        [
         "2025-02-16",
         113726,
         2079243
        ],
        [
         "2025-02-17",
         94574,
         2173817
        ],
        [
         "2025-02-18",
         117355,
         2291172
        ],
        [
         "2025-02-19",
         123679,
         2414851
        ],
        [
         "2025-02-20",
         142246,
         2557097
        ],
        [
         "2025-02-21",
         133980,
         2691077
        ],
        [
         "2025-02-22",
         141862,
         2832939
        ],
        [
         "2025-02-23",
         108970,
         2941909
        ],
        [
         "2025-02-24",
         97348,
         3039257
        ],
        [
         "2025-02-25",
         115804,
         3155061
        ],
        [
         "2025-02-26",
         128974,
         3284035
        ],
        [
         "2025-02-27",
         144052,
         3428087
        ],
        [
         "2025-02-28",
         149455,
         3577542
        ],
        [
         "2025-03-01",
         1,
         3577543
        ]
       ],
       "datasetInfos": [],
       "dbfsResultPath": null,
       "isJsonSchema": true,
       "metadata": {},
       "overflow": false,
       "plotOptions": {
        "customPlotOptions": {},
        "displayType": "table",
        "pivotAggregation": null,
        "pivotColumns": null,
        "xColumns": null,
        "yColumns": null
       },
       "removedWidgets": [],
       "schema": [
        {
         "metadata": "{}",
         "name": "trip_date",
         "type": "\"date\""
        },
        {
         "metadata": "{}",
         "name": "total_trips",
         "type": "\"long\""
        },
        {
         "metadata": "{}",
         "name": "running_total_trips",
         "type": "\"long\""
        }
       ],
       "type": "table"
      }
     },
     "output_type": "display_data"
    }
   ],
   "source": [
    "%sql\n",
    "-- Running total trips by date\n",
    "SELECT\n",
    "  trip_date,\n",
    "  total_trips,\n",
    "  SUM(total_trips) OVER (ORDER BY trip_date) AS running_total_trips\n",
    "FROM (\n",
    "  SELECT\n",
    "    DATE(tpep_pickup_datetime) AS trip_date,\n",
    "    COUNT(*) AS total_trips\n",
    "  FROM taxi_trips_batch\n",
    "  GROUP BY trip_date\n",
    ") sub;"
   ]
  },
  {
   "cell_type": "code",
   "execution_count": 0,
   "metadata": {
    "application/vnd.databricks.v1+cell": {
     "cellMetadata": {
      "byteLimit": 2048000,
      "implicitDf": true,
      "rowLimit": 10000
     },
     "inputWidgets": {},
     "nuid": "bc21949c-60ae-4dec-8d9f-857106420ac3",
     "showTitle": false,
     "tableResultSettingsMap": {},
     "title": ""
    }
   },
   "outputs": [
    {
     "output_type": "display_data",
     "data": {
      "text/html": [
       "<style scoped>\n",
       "  .table-result-container {\n",
       "    max-height: 300px;\n",
       "    overflow: auto;\n",
       "  }\n",
       "  table, th, td {\n",
       "    border: 1px solid black;\n",
       "    border-collapse: collapse;\n",
       "  }\n",
       "  th, td {\n",
       "    padding: 5px;\n",
       "  }\n",
       "  th {\n",
       "    text-align: left;\n",
       "  }\n",
       "</style><div class='table-result-container'><table class='table-result'><thead style='background-color: white'><tr><th>trip_date</th><th>total_trips</th><th>running_total_trips</th></tr></thead><tbody><tr><td>2025-01-31</td><td>30</td><td>30</td></tr><tr><td>2025-02-01</td><td>148649</td><td>148679</td></tr><tr><td>2025-02-02</td><td>123646</td><td>272325</td></tr><tr><td>2025-02-03</td><td>98476</td><td>370801</td></tr><tr><td>2025-02-04</td><td>119863</td><td>490664</td></tr><tr><td>2025-02-05</td><td>128369</td><td>619033</td></tr><tr><td>2025-02-06</td><td>126082</td><td>745115</td></tr><tr><td>2025-02-07</td><td>138099</td><td>883214</td></tr><tr><td>2025-02-08</td><td>146049</td><td>1029263</td></tr><tr><td>2025-02-09</td><td>123431</td><td>1152694</td></tr><tr><td>2025-02-10</td><td>108569</td><td>1261263</td></tr><tr><td>2025-02-11</td><td>125526</td><td>1386789</td></tr><tr><td>2025-02-12</td><td>128920</td><td>1515709</td></tr><tr><td>2025-02-13</td><td>142760</td><td>1658469</td></tr><tr><td>2025-02-14</td><td>158575</td><td>1817044</td></tr><tr><td>2025-02-15</td><td>148473</td><td>1965517</td></tr><tr><td>2025-02-16</td><td>113726</td><td>2079243</td></tr><tr><td>2025-02-17</td><td>94574</td><td>2173817</td></tr><tr><td>2025-02-18</td><td>117355</td><td>2291172</td></tr><tr><td>2025-02-19</td><td>123679</td><td>2414851</td></tr><tr><td>2025-02-20</td><td>142246</td><td>2557097</td></tr><tr><td>2025-02-21</td><td>133980</td><td>2691077</td></tr><tr><td>2025-02-22</td><td>141862</td><td>2832939</td></tr><tr><td>2025-02-23</td><td>108970</td><td>2941909</td></tr><tr><td>2025-02-24</td><td>97348</td><td>3039257</td></tr><tr><td>2025-02-25</td><td>115804</td><td>3155061</td></tr><tr><td>2025-02-26</td><td>128974</td><td>3284035</td></tr><tr><td>2025-02-27</td><td>144052</td><td>3428087</td></tr><tr><td>2025-02-28</td><td>149455</td><td>3577542</td></tr><tr><td>2025-03-01</td><td>1</td><td>3577543</td></tr></tbody></table></div>"
      ]
     },
     "metadata": {
      "application/vnd.databricks.v1+output": {
       "addedWidgets": {},
       "aggData": [],
       "aggError": "",
       "aggOverflow": false,
       "aggSchema": [],
       "aggSeriesLimitReached": false,
       "aggType": "",
       "arguments": {},
       "columnCustomDisplayInfos": {},
       "data": [
        [
         "2025-01-31",
         30,
         30
        ],
        [
         "2025-02-01",
         148649,
         148679
        ],
        [
         "2025-02-02",
         123646,
         272325
        ],
        [
         "2025-02-03",
         98476,
         370801
        ],
        [
         "2025-02-04",
         119863,
         490664
        ],
        [
         "2025-02-05",
         128369,
         619033
        ],
        [
         "2025-02-06",
         126082,
         745115
        ],
        [
         "2025-02-07",
         138099,
         883214
        ],
        [
         "2025-02-08",
         146049,
         1029263
        ],
        [
         "2025-02-09",
         123431,
         1152694
        ],
        [
         "2025-02-10",
         108569,
         1261263
        ],
        [
         "2025-02-11",
         125526,
         1386789
        ],
        [
         "2025-02-12",
         128920,
         1515709
        ],
        [
         "2025-02-13",
         142760,
         1658469
        ],
        [
         "2025-02-14",
         158575,
         1817044
        ],
        [
         "2025-02-15",
         148473,
         1965517
        ],
        [
         "2025-02-16",
         113726,
         2079243
        ],
        [
         "2025-02-17",
         94574,
         2173817
        ],
        [
         "2025-02-18",
         117355,
         2291172
        ],
        [
         "2025-02-19",
         123679,
         2414851
        ],
        [
         "2025-02-20",
         142246,
         2557097
        ],
        [
         "2025-02-21",
         133980,
         2691077
        ],
        [
         "2025-02-22",
         141862,
         2832939
        ],
        [
         "2025-02-23",
         108970,
         2941909
        ],
        [
         "2025-02-24",
         97348,
         3039257
        ],
        [
         "2025-02-25",
         115804,
         3155061
        ],
        [
         "2025-02-26",
         128974,
         3284035
        ],
        [
         "2025-02-27",
         144052,
         3428087
        ],
        [
         "2025-02-28",
         149455,
         3577542
        ],
        [
         "2025-03-01",
         1,
         3577543
        ]
       ],
       "datasetInfos": [],
       "dbfsResultPath": null,
       "isJsonSchema": true,
       "metadata": {},
       "overflow": false,
       "plotOptions": {
        "customPlotOptions": {},
        "displayType": "table",
        "pivotAggregation": null,
        "pivotColumns": null,
        "xColumns": null,
        "yColumns": null
       },
       "removedWidgets": [],
       "schema": [
        {
         "metadata": "{}",
         "name": "trip_date",
         "type": "\"date\""
        },
        {
         "metadata": "{}",
         "name": "total_trips",
         "type": "\"long\""
        },
        {
         "metadata": "{}",
         "name": "running_total_trips",
         "type": "\"long\""
        }
       ],
       "type": "table"
      }
     },
     "output_type": "display_data"
    }
   ],
   "source": [
    "%sql\n",
    "SELECT\n",
    "  trip_date,\n",
    "  total_trips,\n",
    "  SUM(total_trips) OVER (ORDER BY trip_date) AS running_total_trips\n",
    "FROM (\n",
    "  SELECT\n",
    "    DATE(tpep_pickup_datetime) AS trip_date,\n",
    "    COUNT(*) AS total_trips\n",
    "  FROM taxi_trips_batch\n",
    "  GROUP BY trip_date\n",
    ") sub;\n"
   ]
  },
  {
   "cell_type": "code",
   "execution_count": 0,
   "metadata": {
    "application/vnd.databricks.v1+cell": {
     "cellMetadata": {
      "byteLimit": 2048000,
      "implicitDf": true,
      "rowLimit": 10000
     },
     "inputWidgets": {},
     "nuid": "454f8536-60b2-41da-ab4b-3c1350b549e3",
     "showTitle": false,
     "tableResultSettingsMap": {},
     "title": ""
    }
   },
   "outputs": [
    {
     "output_type": "display_data",
     "data": {
      "text/html": [
       "<style scoped>\n",
       "  .table-result-container {\n",
       "    max-height: 300px;\n",
       "    overflow: auto;\n",
       "  }\n",
       "  table, th, td {\n",
       "    border: 1px solid black;\n",
       "    border-collapse: collapse;\n",
       "  }\n",
       "  th, td {\n",
       "    padding: 5px;\n",
       "  }\n",
       "  th {\n",
       "    text-align: left;\n",
       "  }\n",
       "</style><div class='table-result-container'><table class='table-result'><thead style='background-color: white'><tr><th>trip_date</th><th>total_revenue</th><th>revenue_rank</th></tr></thead><tbody><tr><td>2025-02-14</td><td>4042672.0599998757</td><td>1</td></tr><tr><td>2025-02-28</td><td>3834514.5299999258</td><td>2</td></tr><tr><td>2025-02-27</td><td>3769036.939999939</td><td>3</td></tr><tr><td>2025-02-13</td><td>3607450.989999953</td><td>4</td></tr><tr><td>2025-02-20</td><td>3506714.529999904</td><td>5</td></tr></tbody></table></div>"
      ]
     },
     "metadata": {
      "application/vnd.databricks.v1+output": {
       "addedWidgets": {},
       "aggData": [],
       "aggError": "",
       "aggOverflow": false,
       "aggSchema": [],
       "aggSeriesLimitReached": false,
       "aggType": "",
       "arguments": {},
       "columnCustomDisplayInfos": {},
       "data": [
        [
         "2025-02-14",
         4042672.0599998757,
         1
        ],
        [
         "2025-02-28",
         3834514.5299999258,
         2
        ],
        [
         "2025-02-27",
         3769036.939999939,
         3
        ],
        [
         "2025-02-13",
         3607450.989999953,
         4
        ],
        [
         "2025-02-20",
         3506714.529999904,
         5
        ]
       ],
       "datasetInfos": [],
       "dbfsResultPath": null,
       "isJsonSchema": true,
       "metadata": {},
       "overflow": false,
       "plotOptions": {
        "customPlotOptions": {},
        "displayType": "table",
        "pivotAggregation": null,
        "pivotColumns": null,
        "xColumns": null,
        "yColumns": null
       },
       "removedWidgets": [],
       "schema": [
        {
         "metadata": "{}",
         "name": "trip_date",
         "type": "\"date\""
        },
        {
         "metadata": "{}",
         "name": "total_revenue",
         "type": "\"double\""
        },
        {
         "metadata": "{}",
         "name": "revenue_rank",
         "type": "\"integer\""
        }
       ],
       "type": "table"
      }
     },
     "output_type": "display_data"
    }
   ],
   "source": [
    "%sql\n",
    "SELECT *\n",
    "FROM (\n",
    "  SELECT\n",
    "    DATE(tpep_pickup_datetime) AS trip_date,\n",
    "    SUM(total_amount) AS total_revenue,\n",
    "    RANK() OVER (ORDER BY SUM(total_amount) DESC) AS revenue_rank\n",
    "  FROM taxi_trips_batch\n",
    "  GROUP BY trip_date\n",
    ") ranked_trips\n",
    "WHERE revenue_rank <= 5\n",
    "ORDER BY revenue_rank;"
   ]
  },
  {
   "cell_type": "code",
   "execution_count": 0,
   "metadata": {
    "application/vnd.databricks.v1+cell": {
     "cellMetadata": {
      "byteLimit": 2048000,
      "implicitDf": true,
      "rowLimit": 10000
     },
     "inputWidgets": {},
     "nuid": "46c1c45f-50b5-4e83-8176-9a0b15db3094",
     "showTitle": false,
     "tableResultSettingsMap": {},
     "title": ""
    }
   },
   "outputs": [],
   "source": [
    "df_trips_per_day = spark.sql(\"\"\"\n",
    "SELECT\n",
    "  DATE(tpep_pickup_datetime) AS trip_date,\n",
    "  COUNT(*) AS total_trips\n",
    "FROM taxi_trips_batch\n",
    "GROUP BY trip_date\n",
    "ORDER BY trip_date\n",
    "\"\"\").toPandas()\n",
    "\n",
    "\n",
    "\n"
   ]
  },
  {
   "cell_type": "code",
   "execution_count": 0,
   "metadata": {
    "application/vnd.databricks.v1+cell": {
     "cellMetadata": {
      "byteLimit": 2048000,
      "rowLimit": 10000
     },
     "inputWidgets": {},
     "nuid": "b60ce601-3a31-444b-8c5e-463245658aaa",
     "showTitle": false,
     "tableResultSettingsMap": {},
     "title": ""
    }
   },
   "outputs": [
    {
     "output_type": "display_data",
     "data": {
      "text/html": [
       "<div>\n",
       "<style scoped>\n",
       "    .dataframe tbody tr th:only-of-type {\n",
       "        vertical-align: middle;\n",
       "    }\n",
       "\n",
       "    .dataframe tbody tr th {\n",
       "        vertical-align: top;\n",
       "    }\n",
       "\n",
       "    .dataframe thead th {\n",
       "        text-align: right;\n",
       "    }\n",
       "</style>\n",
       "<table border=\"1\" class=\"dataframe\">\n",
       "  <thead>\n",
       "    <tr style=\"text-align: right;\">\n",
       "      <th></th>\n",
       "      <th>trip_date</th>\n",
       "      <th>total_trips</th>\n",
       "    </tr>\n",
       "  </thead>\n",
       "  <tbody>\n",
       "    <tr>\n",
       "      <th>0</th>\n",
       "      <td>2025-01-31</td>\n",
       "      <td>30</td>\n",
       "    </tr>\n",
       "    <tr>\n",
       "      <th>1</th>\n",
       "      <td>2025-02-01</td>\n",
       "      <td>148649</td>\n",
       "    </tr>\n",
       "    <tr>\n",
       "      <th>2</th>\n",
       "      <td>2025-02-02</td>\n",
       "      <td>123646</td>\n",
       "    </tr>\n",
       "    <tr>\n",
       "      <th>3</th>\n",
       "      <td>2025-02-03</td>\n",
       "      <td>98476</td>\n",
       "    </tr>\n",
       "    <tr>\n",
       "      <th>4</th>\n",
       "      <td>2025-02-04</td>\n",
       "      <td>119863</td>\n",
       "    </tr>\n",
       "  </tbody>\n",
       "</table>\n",
       "</div>"
      ]
     },
     "metadata": {
      "application/vnd.databricks.v1+output": {
       "addedWidgets": {},
       "arguments": {},
       "data": "<div>\n<style scoped>\n    .dataframe tbody tr th:only-of-type {\n        vertical-align: middle;\n    }\n\n    .dataframe tbody tr th {\n        vertical-align: top;\n    }\n\n    .dataframe thead th {\n        text-align: right;\n    }\n</style>\n<table border=\"1\" class=\"dataframe\">\n  <thead>\n    <tr style=\"text-align: right;\">\n      <th></th>\n      <th>trip_date</th>\n      <th>total_trips</th>\n    </tr>\n  </thead>\n  <tbody>\n    <tr>\n      <th>0</th>\n      <td>2025-01-31</td>\n      <td>30</td>\n    </tr>\n    <tr>\n      <th>1</th>\n      <td>2025-02-01</td>\n      <td>148649</td>\n    </tr>\n    <tr>\n      <th>2</th>\n      <td>2025-02-02</td>\n      <td>123646</td>\n    </tr>\n    <tr>\n      <th>3</th>\n      <td>2025-02-03</td>\n      <td>98476</td>\n    </tr>\n    <tr>\n      <th>4</th>\n      <td>2025-02-04</td>\n      <td>119863</td>\n    </tr>\n  </tbody>\n</table>\n</div>",
       "datasetInfos": [],
       "metadata": {},
       "removedWidgets": [],
       "textData": null,
       "type": "htmlSandbox"
      }
     },
     "output_type": "display_data"
    }
   ],
   "source": [
    "df_trips_per_day.head()"
   ]
  },
  {
   "cell_type": "code",
   "execution_count": 0,
   "metadata": {
    "application/vnd.databricks.v1+cell": {
     "cellMetadata": {
      "byteLimit": 2048000,
      "rowLimit": 10000
     },
     "inputWidgets": {},
     "nuid": "33fec33b-725b-454f-898e-3b28a24c7971",
     "showTitle": false,
     "tableResultSettingsMap": {},
     "title": ""
    }
   },
   "outputs": [
    {
     "output_type": "display_data",
     "data": {
      "image/png": "[encoded data removed]"
     },
     "metadata": {
      "application/vnd.databricks.v1+output": {
       "addedWidgets": {},
       "arguments": {},
       "data": "data:image/png;base64,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\n",
       "datasetInfos": [],
       "metadata": {},
       "removedWidgets": [],
       "type": "image"
      }
     },
     "output_type": "display_data"
    }
   ],
   "source": [
    "import matplotlib.pyplot as plt\n",
    "import seaborn as sns\n",
    "\n",
    "plt.figure(figsize=(12,6))\n",
    "sns.lineplot(data=df_trips_per_day, x='trip_date', y='total_trips', marker='o')\n",
    "plt.xticks(rotation=45)\n",
    "plt.title('Total Trips Per Day')\n",
    "plt.xlabel('Date')\n",
    "plt.ylabel('Number of Trips')\n",
    "plt.grid(True)\n",
    "plt.tight_layout()\n",
    "plt.show()"
   ]
  }
 ],
 "metadata": {
  "application/vnd.databricks.v1+notebook": {
   "computePreferences": null,
   "dashboards": [],
   "environmentMetadata": {
    "base_environment": "",
    "environment_version": "1"
   },
   "inputWidgetPreferences": null,
   "language": "python",
   "notebookMetadata": {
    "mostRecentlyExecutedCommandWithImplicitDF": {
     "commandId": -1,
     "dataframes": [
      "_sqldf"
     ]
    },
    "pythonIndentUnit": 4
   },
   "notebookName": "Visualizing NYC Taxi Trends with SQL",
   "widgets": {}
  }
 },
 "nbformat": 4,
 "nbformat_minor": 0
}